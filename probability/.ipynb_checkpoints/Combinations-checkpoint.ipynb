{
 "cells": [
  {
   "cell_type": "markdown",
   "metadata": {},
   "source": [
    "# Combinations"
   ]
  },
  {
   "cell_type": "markdown",
   "metadata": {},
   "source": [
    "How many five-letter strings can be made, using only lowercase letters a-z?\n",
    "\n",
    "This is a multiplication problem:\n",
    "\n",
    "$$ 26 \\times 26 \\times 26 \\times 26 \\times 26 $$\n"
   ]
  },
  {
   "cell_type": "code",
   "execution_count": 1,
   "metadata": {},
   "outputs": [
    {
     "data": {
      "text/plain": [
       "11881376"
      ]
     },
     "execution_count": 1,
     "metadata": {},
     "output_type": "execute_result"
    }
   ],
   "source": [
    "26*26*26*26*26"
   ]
  },
  {
   "cell_type": "markdown",
   "metadata": {},
   "source": [
    "Since all the multipliers are the same, this is more easily rendered with an exponent:\n",
    "\n",
    "$$ 26^5 = 26 \\times 26 \\times 26 \\times 26 \\times 26 $$\n"
   ]
  },
  {
   "cell_type": "code",
   "execution_count": 2,
   "metadata": {},
   "outputs": [
    {
     "data": {
      "text/plain": [
       "11881376"
      ]
     },
     "execution_count": 2,
     "metadata": {},
     "output_type": "execute_result"
    }
   ],
   "source": [
    "26**5"
   ]
  },
  {
   "cell_type": "code",
   "execution_count": 3,
   "metadata": {},
   "outputs": [
    {
     "data": {
      "text/plain": [
       "True"
      ]
     },
     "execution_count": 3,
     "metadata": {},
     "output_type": "execute_result"
    }
   ],
   "source": [
    "26**5 == 26*26*26*26*26"
   ]
  },
  {
   "cell_type": "markdown",
   "metadata": {},
   "source": [
    "However, if the multipliers are not all the same, you'll need a different approach. \n",
    "\n",
    "How many eight-character strings can be made if the first five characters are letters and the last three are digits?\n",
    "\n",
    "$$ 26 \\times 26 \\times 26 \\times 26 \\times 26 \\times 10 \\times 10 \\times 10 = 11881376000$$"
   ]
  },
  {
   "cell_type": "code",
   "execution_count": 4,
   "metadata": {},
   "outputs": [
    {
     "data": {
      "text/plain": [
       "11881376000"
      ]
     },
     "execution_count": 4,
     "metadata": {},
     "output_type": "execute_result"
    }
   ],
   "source": [
    "26*26*26*26*26*10*10*10"
   ]
  },
  {
   "cell_type": "markdown",
   "metadata": {},
   "source": [
    "This is the product of two exponents:\n",
    "\n",
    "$$ 26^5 \\times 10^3 = 11881376000$$"
   ]
  },
  {
   "cell_type": "code",
   "execution_count": 5,
   "metadata": {},
   "outputs": [
    {
     "data": {
      "text/plain": [
       "11881376000"
      ]
     },
     "execution_count": 5,
     "metadata": {},
     "output_type": "execute_result"
    }
   ],
   "source": [
    "(26**5)*(10**3)"
   ]
  },
  {
   "cell_type": "code",
   "execution_count": 6,
   "metadata": {},
   "outputs": [
    {
     "data": {
      "text/plain": [
       "True"
      ]
     },
     "execution_count": 6,
     "metadata": {},
     "output_type": "execute_result"
    }
   ],
   "source": [
    "(26**5)*(10**3) == 26*26*26*26*26*10*10*10"
   ]
  },
  {
   "cell_type": "markdown",
   "metadata": {},
   "source": [
    "Sometimes, the problem isn't reducible to a simple exponent.\n",
    "\n",
    "How many outfits can be made from the following supply of clothing, assuming one from each category is selected:\n",
    "\n",
    " - 6 shirts\n",
    " - 4 suits\n",
    " - 10 ties\n",
    " - 7 pairs of socks\n",
    " - 2 belts\n",
    " - 3 pairs of shoes\n",
    " - 2 hats (but wearing a hat is optional)\n",
    " \n",
    "$$ 6 \\times 4 \\times 10 \\times 7 \\times 2 \\times 3 \\times 3 = 30240$$\n",
    " \n",
    "The last number in the expression is $3$ because there are 3 options: \n",
    " - the first hat\n",
    " - the second hat\n",
    " - no hat at all\n",
    " "
   ]
  },
  {
   "cell_type": "code",
   "execution_count": 7,
   "metadata": {},
   "outputs": [
    {
     "name": "stdout",
     "output_type": "stream",
     "text": [
      "30240\n"
     ]
    }
   ],
   "source": [
    "outfits = 6*4*10*7*2*3*3\n",
    "print(outfits)"
   ]
  },
  {
   "cell_type": "code",
   "execution_count": 8,
   "metadata": {},
   "outputs": [
    {
     "name": "stdout",
     "output_type": "stream",
     "text": [
      "24\n"
     ]
    }
   ],
   "source": [
    "# The * is called an arithmetic operator.\n",
    "# There are several arithmetic operators in Python.\n",
    "# They are good for simple calculations,\n",
    "# but you can't use them if you don't know \n",
    "# how many terms are going to be in the calculation.\n",
    "\n",
    "list_one = [1, 2, 3, 4]\n",
    "list_two = [6, 4, 10, 7, 2, 3, 3]\n",
    "list_three = [2]\n",
    "\n",
    "# You could manually operate on them with arithmetic...\n",
    "\n",
    "product_of_list_one = list_one[0] * list_one[1] * list_one[2] * list_one[3]\n",
    "\n",
    "print(str(product_of_list_one))     # Casting to str before printing \n",
    "                                    # is a good habit."
   ]
  },
  {
   "cell_type": "code",
   "execution_count": 9,
   "metadata": {},
   "outputs": [
    {
     "name": "stdout",
     "output_type": "stream",
     "text": [
      "24, 30240, 2\n"
     ]
    }
   ],
   "source": [
    "# But, how would you multiply all those together,\n",
    "# if you didn't know ahead of time how many items\n",
    "# would be in your list?\n",
    "\n",
    "# We want a function that accepts an iterable and returns the product.\n",
    "# You'd think Python would have this built-in, but it does not.\n",
    "\n",
    "from functools import reduce    ## 1\n",
    "import operator                 ## 2\n",
    "\n",
    "def prod(iterable):\n",
    "    return reduce(operator.mul, iterable, 1)\n",
    "\n",
    "x = prod(list_one)\n",
    "y = prod(list_two)\n",
    "z = prod(list_three)\n",
    "\n",
    "print(\", \".join([str(x), str(y), str(z)]))"
   ]
  },
  {
   "cell_type": "code",
   "execution_count": 10,
   "metadata": {
    "collapsed": true
   },
   "outputs": [],
   "source": [
    "# When would this sort of thing ever happen?\n",
    "\n",
    "# Imagine a video game.\n",
    "# Chracter's wardrobe is stored in a dict.\n",
    "\n",
    "character_wardrobe = {\n",
    "    \"shirts\": [\"white\", \"black\", \"grey\", \"blue\", \"pink\", \"purple\"],\n",
    "    \"suits\" : [\"black\", \"tan\", \"grey\", \"white\"],\n",
    "    \"ties\"  : [1, 2, 3, 4, 5, 6, 7, 8, 9, 10],\n",
    "    \"socks\" : [1, 2, 3, 4, 5, 6, 7],\n",
    "    \"belts\" : [\"brown\", \"black\"],\n",
    "    \"shoes\" : [\"black oxford\", \"brown oxford\", \"blue suede\"],\n",
    "    \"hats\"  : [\"\", \"derby\", \"fedora\"]\n",
    "}"
   ]
  },
  {
   "cell_type": "code",
   "execution_count": 11,
   "metadata": {
    "scrolled": true
   },
   "outputs": [
    {
     "name": "stdout",
     "output_type": "stream",
     "text": [
      "shoes = 3\n",
      "suits = 4\n",
      "shirts = 6\n",
      "hats = 3\n",
      "ties = 10\n",
      "belts = 2\n",
      "socks = 7\n"
     ]
    }
   ],
   "source": [
    "for typ, pieces in character_wardrobe.items():\n",
    "    print(typ + \" = \" + str(len(pieces)))"
   ]
  },
  {
   "cell_type": "code",
   "execution_count": 12,
   "metadata": {},
   "outputs": [
    {
     "name": "stdout",
     "output_type": "stream",
     "text": [
      "30240\n"
     ]
    }
   ],
   "source": [
    "# How many outfits?\n",
    "\n",
    "outfits = prod([len(pieces) for _,pieces in character_wardrobe.items()])\n",
    "\n",
    "print(str(outfits))"
   ]
  },
  {
   "cell_type": "code",
   "execution_count": 14,
   "metadata": {},
   "outputs": [
    {
     "data": {
      "text/plain": [
       "30240"
      ]
     },
     "execution_count": 14,
     "metadata": {},
     "output_type": "execute_result"
    }
   ],
   "source": [
    "# This could be done with any dict where:\n",
    "# - the value of each item is a collection, and\n",
    "# - you need to know the number of permutations.\n",
    "\n",
    "def combinations_from_dict(dict_of_collections):\n",
    "    return prod(\n",
    "        [len(collection) for _,collection in dict_of_collections.items()]\n",
    "    )\n",
    "\n",
    "combinations_from_dict(character_wardrobe)"
   ]
  },
  {
   "cell_type": "code",
   "execution_count": null,
   "metadata": {
    "collapsed": true
   },
   "outputs": [],
   "source": []
  },
  {
   "cell_type": "code",
   "execution_count": null,
   "metadata": {
    "collapsed": true
   },
   "outputs": [],
   "source": []
  },
  {
   "cell_type": "code",
   "execution_count": null,
   "metadata": {
    "collapsed": true
   },
   "outputs": [],
   "source": []
  },
  {
   "cell_type": "code",
   "execution_count": null,
   "metadata": {
    "collapsed": true
   },
   "outputs": [],
   "source": []
  },
  {
   "cell_type": "code",
   "execution_count": null,
   "metadata": {
    "collapsed": true
   },
   "outputs": [],
   "source": []
  },
  {
   "cell_type": "code",
   "execution_count": null,
   "metadata": {
    "collapsed": true
   },
   "outputs": [],
   "source": []
  },
  {
   "cell_type": "code",
   "execution_count": null,
   "metadata": {
    "collapsed": true
   },
   "outputs": [],
   "source": []
  },
  {
   "cell_type": "code",
   "execution_count": null,
   "metadata": {
    "collapsed": true
   },
   "outputs": [],
   "source": []
  },
  {
   "cell_type": "code",
   "execution_count": null,
   "metadata": {
    "collapsed": true
   },
   "outputs": [],
   "source": []
  },
  {
   "cell_type": "code",
   "execution_count": null,
   "metadata": {
    "collapsed": true
   },
   "outputs": [],
   "source": []
  },
  {
   "cell_type": "code",
   "execution_count": null,
   "metadata": {
    "collapsed": true
   },
   "outputs": [],
   "source": []
  },
  {
   "cell_type": "code",
   "execution_count": null,
   "metadata": {
    "collapsed": true
   },
   "outputs": [],
   "source": []
  },
  {
   "cell_type": "code",
   "execution_count": null,
   "metadata": {
    "collapsed": true
   },
   "outputs": [],
   "source": []
  },
  {
   "cell_type": "code",
   "execution_count": null,
   "metadata": {
    "collapsed": true
   },
   "outputs": [],
   "source": []
  },
  {
   "cell_type": "code",
   "execution_count": null,
   "metadata": {
    "collapsed": true
   },
   "outputs": [],
   "source": []
  },
  {
   "cell_type": "code",
   "execution_count": null,
   "metadata": {
    "collapsed": true
   },
   "outputs": [],
   "source": []
  }
 ],
 "metadata": {
  "kernelspec": {
   "display_name": "Python 3",
   "language": "python",
   "name": "python3"
  },
  "language_info": {
   "codemirror_mode": {
    "name": "ipython",
    "version": 3
   },
   "file_extension": ".py",
   "mimetype": "text/x-python",
   "name": "python",
   "nbconvert_exporter": "python",
   "pygments_lexer": "ipython3",
   "version": "3.5.1"
  }
 },
 "nbformat": 4,
 "nbformat_minor": 2
}
